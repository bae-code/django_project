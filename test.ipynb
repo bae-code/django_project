{
 "cells": [
  {
   "cell_type": "code",
   "execution_count": 61,
   "metadata": {},
   "outputs": [
    {
     "name": "stdout",
     "output_type": "stream",
     "text": [
      "{0: 'zero', 1: 'one', 2: 'two', 3: 'three', 4: 'four', 5: 'five', 6: 'six', 7: 'seven', 8: 'eight', 9: 'nine'}\n",
      " o\n",
      " n\n",
      " e\n",
      " s\n",
      " e\n",
      " v\n",
      " e\n",
      " n\n",
      " e\n",
      " i\n",
      " g\n",
      " h\n",
      " t\n"
     ]
    }
   ],
   "source": [
    "s = \"one4seveneight\"\n",
    "num_str = ['zero','one','two','three','four','five','six','seven','eight','nine']\n",
    "all_num = {}\n",
    "for i in range(10):\n",
    "    all_num[i] = num_str[i]\n",
    "print(all_num)\n",
    "for i in s:\n",
    "    a = ' '\n",
    "\n",
    "    if i.isdigit():\n",
    "        pass\n",
    "    elif i.isalpha():\n",
    "        a += i \n",
    "        print(a)\n",
    "        if a in num_str:\n",
    "            a = all_num[a]\n",
    "\n"
   ]
  }
 ],
 "metadata": {
  "interpreter": {
   "hash": "76d1811f6af7c76dd5c097c78c13f107377eddfe67b7fb5abda79cd8b9f42512"
  },
  "kernelspec": {
   "display_name": "Python 3.9.7 64-bit ('django_project-HqtUwred': pipenv)",
   "language": "python",
   "name": "python3"
  },
  "language_info": {
   "codemirror_mode": {
    "name": "ipython",
    "version": 3
   },
   "file_extension": ".py",
   "mimetype": "text/x-python",
   "name": "python",
   "nbconvert_exporter": "python",
   "pygments_lexer": "ipython3",
   "version": "3.9.7"
  },
  "orig_nbformat": 4
 },
 "nbformat": 4,
 "nbformat_minor": 2
}
